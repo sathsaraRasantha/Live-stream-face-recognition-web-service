{
 "cells": [
  {
   "cell_type": "code",
   "execution_count": 7,
   "metadata": {},
   "outputs": [],
   "source": [
    "import face_recognition\n",
    "import numpy as np\n",
    "import cv2"
   ]
  },
  {
   "cell_type": "code",
   "execution_count": 8,
   "metadata": {},
   "outputs": [],
   "source": [
    "video_capture=cv2.VideoCapture(0)"
   ]
  },
  {
   "cell_type": "code",
   "execution_count": 9,
   "metadata": {},
   "outputs": [],
   "source": [
    "sathsara_image=face_recognition.load_image_file(\"known_people/Sathsara.jpg\")\n",
    "sathsara_face_encoding=face_recognition.face_encodings(sathsara_image)[0]\n",
    "\n",
    "lashith_image=face_recognition.load_image_file(\"known_people/Lashith.jpg\")\n",
    "lashith_face_encoding=face_recognition.face_encodings(lashith_image)[0]\n",
    "\n",
    "akila_image=face_recognition.load_image_file(\"known_people/Akila.jpg\")\n",
    "akila_face_encoding=face_recognition.face_encodings(akila_image)[0]\n",
    "\n",
    "praneeth_image=face_recognition.load_image_file(\"known_people/Praneeth.jpg\")\n",
    "praneeth_face_encoding=face_recognition.face_encodings(praneeth_image)[0]"
   ]
  },
  {
   "cell_type": "code",
   "execution_count": 10,
   "metadata": {},
   "outputs": [],
   "source": [
    "known_face_encodings=[\n",
    "    sathsara_face_encoding,\n",
    "    lashith_face_encoding,\n",
    "    akila_face_encoding,\n",
    "    praneeth_face_encoding\n",
    "]\n",
    "\n",
    "known_face_names=[\n",
    "    \"Sathsara Rasantha\",\n",
    "    \"Lashith Menuka\",\n",
    "    \"Akila Amarasinghe\",\n",
    "    \"Praneeth Chandrasekara\"\n",
    "]"
   ]
  },
  {
   "cell_type": "code",
   "execution_count": 11,
   "metadata": {},
   "outputs": [],
   "source": [
    "face_locations=[]\n",
    "face_encodings=[]\n",
    "face_names=[]\n",
    "process_this_frame=True\n"
   ]
  },
  {
   "cell_type": "code",
   "execution_count": 12,
   "metadata": {},
   "outputs": [],
   "source": [
    "while True:\n",
    "    ret,frame=video_capture.read()\n",
    "    small_frame=cv2.resize(frame,(0,0),fx=0.25,fy=0.25)\n",
    "    rgb_small_frame=small_frame[:,:,::-1]\n",
    "    \n",
    "    if process_this_frame:\n",
    "        face_locations=face_recognition.face_locations(rgb_small_frame)\n",
    "        face_encodings=face_recognition.face_encodings(rgb_small_frame,face_locations)\n",
    "        \n",
    "        face_names=[]\n",
    "        for face_encoding in face_encodings:\n",
    "            matches=face_recognition.compare_faces(known_face_encodings,face_encoding)\n",
    "            name=\"unknown\"\n",
    "            \n",
    "            face_distances=face_recognition.face_distance(known_face_encodings,face_encoding)\n",
    "            best_match_index=np.argmin(face_distances)\n",
    "            if matches[best_match_index]:\n",
    "                name=known_face_names[best_match_index]\n",
    "                \n",
    "            face_names.append(name)\n",
    "    \n",
    "    process_this_frame=not process_this_frame\n",
    "    \n",
    "    for (top,right,bottom,left), name in zip(face_locations,face_names):\n",
    "        top*=4\n",
    "        right*=4\n",
    "        bottom*=4\n",
    "        left*=4\n",
    "        \n",
    "        cv2.rectangle(frame,(left,top),(right,bottom),(0,0,255),2)\n",
    "        \n",
    "        cv2.rectangle(frame,(left,bottom-35),(right,bottom),(0,0,255),cv2.FILLED)\n",
    "        cv2.putText(frame,name,(left+6,bottom-6),1,1.0,(255,255,255),1)\n",
    "    \n",
    "    cv2.imshow('Video',frame)\n",
    "    \n",
    "    if cv2.waitKey(1) & 0xFF == ord('q'):\n",
    "        break\n",
    "        \n",
    "video_capture.release()\n",
    "cv2.destroyAllWindows()\n"
   ]
  }
 ],
 "metadata": {
  "kernelspec": {
   "display_name": "Python 3",
   "language": "python",
   "name": "python3"
  },
  "language_info": {
   "codemirror_mode": {
    "name": "ipython",
    "version": 3
   },
   "file_extension": ".py",
   "mimetype": "text/x-python",
   "name": "python",
   "nbconvert_exporter": "python",
   "pygments_lexer": "ipython3",
   "version": "3.8.3"
  }
 },
 "nbformat": 4,
 "nbformat_minor": 4
}
